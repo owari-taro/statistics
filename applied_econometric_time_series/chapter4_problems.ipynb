{
 "cells": [
  {
   "cell_type": "markdown",
   "metadata": {},
   "source": [
    "## problem5\n",
    "(a)reproduce equation(4.1)  \n",
    "\n",
    "$rgdp_{t}=a_0-a_1t+a_2t^2+a_3t^3+e_t$\n"
   ]
  },
  {
   "cell_type": "code",
   "execution_count": 2,
   "metadata": {},
   "outputs": [
    {
     "data": {
      "text/html": [
       "<table>\n",
       "<caption>A data.frame: 2 × 4</caption>\n",
       "<thead>\n",
       "\t<tr><th></th><th scope=col>rgdp</th><th scope=col>t1</th><th scope=col>t2</th><th scope=col>t3</th></tr>\n",
       "\t<tr><th></th><th scope=col>&lt;dbl&gt;</th><th scope=col>&lt;dbl&gt;</th><th scope=col>&lt;dbl&gt;</th><th scope=col>&lt;dbl&gt;</th></tr>\n",
       "</thead>\n",
       "<tbody>\n",
       "\t<tr><th scope=row>1</th><td>1770.7</td><td>1</td><td>1</td><td>1</td></tr>\n",
       "\t<tr><th scope=row>2</th><td>1768.0</td><td>2</td><td>4</td><td>8</td></tr>\n",
       "</tbody>\n",
       "</table>\n"
      ],
      "text/latex": [
       "A data.frame: 2 × 4\n",
       "\\begin{tabular}{r|llll}\n",
       "  & rgdp & t1 & t2 & t3\\\\\n",
       "  & <dbl> & <dbl> & <dbl> & <dbl>\\\\\n",
       "\\hline\n",
       "\t1 & 1770.7 & 1 & 1 & 1\\\\\n",
       "\t2 & 1768.0 & 2 & 4 & 8\\\\\n",
       "\\end{tabular}\n"
      ],
      "text/markdown": [
       "\n",
       "A data.frame: 2 × 4\n",
       "\n",
       "| <!--/--> | rgdp &lt;dbl&gt; | t1 &lt;dbl&gt; | t2 &lt;dbl&gt; | t3 &lt;dbl&gt; |\n",
       "|---|---|---|---|---|\n",
       "| 1 | 1770.7 | 1 | 1 | 1 |\n",
       "| 2 | 1768.0 | 2 | 4 | 8 |\n",
       "\n"
      ],
      "text/plain": [
       "  rgdp   t1 t2 t3\n",
       "1 1770.7 1  1  1 \n",
       "2 1768.0 2  4  8 "
      ]
     },
     "metadata": {},
     "output_type": "display_data"
    }
   ],
   "source": [
    "data<-read.csv(\"csvs/RGDP.csv\",header=T)\n",
    "#head(data)\n",
    "#create dataset\n",
    "N<-length(data$rgdp)\n",
    "t1<-rep(0,N)\n",
    "t2<-rep(0,N)\n",
    "t3<-rep(0,N)\n",
    "\n",
    "for (i in 1:length(data$rgdp)){\n",
    "    t1[i]<-i\n",
    "    t2[i]<-i**2\n",
    "    t3[i]<-i**3\n",
    "}\n",
    "data1<-data.frame(rgdp=data$rgdp,t1=t1,t2=t2,t3=t3)\n",
    "head(data1,n=2)\n",
    "reg<-lm(rgdp~t1+t2+t3,data=data1)\n",
    "#you can check data structure using str\n",
    "#str(reg)"
   ]
  },
  {
   "cell_type": "markdown",
   "metadata": {},
   "source": [
    "(b)estimate (4.29)"
   ]
  },
  {
   "cell_type": "code",
   "execution_count": 3,
   "metadata": {},
   "outputs": [
    {
     "data": {
      "text/plain": [
       "\n",
       "############################################### \n",
       "# Augmented Dickey-Fuller Test Unit Root Test # \n",
       "############################################### \n",
       "\n",
       "Test regression trend \n",
       "\n",
       "\n",
       "Call:\n",
       "lm(formula = z.diff ~ z.lag.1 + 1 + tt + z.diff.lag)\n",
       "\n",
       "Residuals:\n",
       "      Min        1Q    Median        3Q       Max \n",
       "-0.030533 -0.004380  0.000598  0.004866  0.034333 \n",
       "\n",
       "Coefficients:\n",
       "              Estimate Std. Error t value Pr(>|t|)    \n",
       "(Intercept)  1.249e-01  7.919e-02   1.577    0.116    \n",
       "z.lag.1     -1.563e-02  1.050e-02  -1.489    0.138    \n",
       "tt           1.117e-04  8.506e-05   1.313    0.190    \n",
       "z.diff.lag   3.663e-01  5.848e-02   6.263 1.57e-09 ***\n",
       "---\n",
       "Signif. codes:  0 '***' 0.001 '**' 0.01 '*' 0.05 '.' 0.1 ' ' 1\n",
       "\n",
       "Residual standard error: 0.009106 on 258 degrees of freedom\n",
       "Multiple R-squared:  0.1569,\tAdjusted R-squared:  0.1471 \n",
       "F-statistic:    16 on 3 and 258 DF,  p-value: 1.43e-09\n",
       "\n",
       "\n",
       "Value of test-statistic is: -1.4891 17.6119 2.9657 \n",
       "\n",
       "Critical values for test statistics: \n",
       "      1pct  5pct 10pct\n",
       "tau3 -3.98 -3.42 -3.13\n",
       "phi2  6.15  4.71  4.05\n",
       "phi3  8.34  6.30  5.36\n"
      ]
     },
     "metadata": {},
     "output_type": "display_data"
    }
   ],
   "source": [
    "#library for unit-root-test\n",
    "library(urca)\n",
    "res<-ur.df(log(data$rgdp),\"trend\", lags=1, \"Fixed\")\n",
    "summary(res)\n",
    "#if you want to check object structure ,use str like below\n",
    "#str(res)\n",
    "#res@testreg$coefficients"
   ]
  },
  {
   "cell_type": "markdown",
   "metadata": {},
   "source": [
    "#problem10\n",
    "(1)simulate DF distribution with intercept only"
   ]
  },
  {
   "cell_type": "code",
   "execution_count": 17,
   "metadata": {},
   "outputs": [
    {
     "data": {
      "text/html": [
       "-0.377277204734218"
      ],
      "text/latex": [
       "-0.377277204734218"
      ],
      "text/markdown": [
       "-0.377277204734218"
      ],
      "text/plain": [
       "[1] -0.3772772"
      ]
     },
     "metadata": {},
     "output_type": "display_data"
    },
    {
     "data": {
      "text/plain": [
       "   Min. 1st Qu.  Median    Mean 3rd Qu.    Max. \n",
       "-3.7747 -0.8613 -0.1921 -0.1820  0.5082  3.4153 "
      ]
     },
     "metadata": {},
     "output_type": "display_data"
    },
    {
     "data": {
      "image/png": "[encoded data removed]",
      "text/plain": [
       "Plot with title \"Histogram of sim\""
      ]
     },
     "metadata": {
      "image/png": {
       "height": 420,
       "width": 420
      }
     },
     "output_type": "display_data"
    }
   ],
   "source": [
    "t_value<-function(a0=1){\n",
    "    y<-rep(0,101)\n",
    "    e<-rnorm(101,0,1)\n",
    "    for (i in 1:100){\n",
    "            y[i+1]<-a0+y[i]+e[i+1]\n",
    "    \n",
    "    }\n",
    "    dy<-diff(y)\n",
    "    y<-y[1:100]\n",
    "    res<-lm(dy~y)\n",
    "    #print(summary(res))\n",
    "    #print(\"hogehoge\")\n",
    "    t_<-summary(res)$coefficients[2,3]\n",
    "    return (t_)\n",
    "}\n",
    "t_value(3)\n",
    "sim<-rep(5000)\n",
    "for (i in 1:5000){\n",
    "    sim[i]<-t_value(1)\n",
    "}\n",
    "summary(sim)\n",
    "hist(sim)\n",
    "\n"
   ]
  },
  {
   "cell_type": "code",
   "execution_count": null,
   "metadata": {},
   "outputs": [],
   "source": []
  }
 ],
 "metadata": {
  "kernelspec": {
   "display_name": "R",
   "language": "R",
   "name": "ir"
  },
  "language_info": {
   "codemirror_mode": "r",
   "file_extension": ".r",
   "mimetype": "text/x-r-source",
   "name": "R",
   "pygments_lexer": "r",
   "version": "4.0.0"
  }
 },
 "nbformat": 4,
 "nbformat_minor": 4
}
