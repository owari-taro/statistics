{
 "cells": [
  {
   "cell_type": "markdown",
   "metadata": {},
   "source": [
    "## problem5\n",
    "(a)reproduce equation(4.1)  \n",
    "\n",
    "$rgdp_{t}=a_0-a_1t+a_2t^2+a_3t^3+e_t$\n"
   ]
  },
  {
   "cell_type": "code",
   "execution_count": 16,
   "metadata": {},
   "outputs": [
    {
     "data": {
      "text/html": [
       "<table>\n",
       "<caption>A data.frame: 2 × 4</caption>\n",
       "<thead>\n",
       "\t<tr><th></th><th scope=col>rgdp</th><th scope=col>t1</th><th scope=col>t2</th><th scope=col>t3</th></tr>\n",
       "\t<tr><th></th><th scope=col>&lt;dbl&gt;</th><th scope=col>&lt;dbl&gt;</th><th scope=col>&lt;dbl&gt;</th><th scope=col>&lt;dbl&gt;</th></tr>\n",
       "</thead>\n",
       "<tbody>\n",
       "\t<tr><th scope=row>1</th><td>1770.7</td><td>1</td><td>1</td><td>1</td></tr>\n",
       "\t<tr><th scope=row>2</th><td>1768.0</td><td>2</td><td>4</td><td>8</td></tr>\n",
       "</tbody>\n",
       "</table>\n"
      ],
      "text/latex": [
       "A data.frame: 2 × 4\n",
       "\\begin{tabular}{r|llll}\n",
       "  & rgdp & t1 & t2 & t3\\\\\n",
       "  & <dbl> & <dbl> & <dbl> & <dbl>\\\\\n",
       "\\hline\n",
       "\t1 & 1770.7 & 1 & 1 & 1\\\\\n",
       "\t2 & 1768.0 & 2 & 4 & 8\\\\\n",
       "\\end{tabular}\n"
      ],
      "text/markdown": [
       "\n",
       "A data.frame: 2 × 4\n",
       "\n",
       "| <!--/--> | rgdp &lt;dbl&gt; | t1 &lt;dbl&gt; | t2 &lt;dbl&gt; | t3 &lt;dbl&gt; |\n",
       "|---|---|---|---|---|\n",
       "| 1 | 1770.7 | 1 | 1 | 1 |\n",
       "| 2 | 1768.0 | 2 | 4 | 8 |\n",
       "\n"
      ],
      "text/plain": [
       "  rgdp   t1 t2 t3\n",
       "1 1770.7 1  1  1 \n",
       "2 1768.0 2  4  8 "
      ]
     },
     "metadata": {},
     "output_type": "display_data"
    },
    {
     "name": "stdout",
     "output_type": "stream",
     "text": [
      "List of 12\n",
      " $ coefficients : Named num [1:4] 1890.2469 9.108 0.1699 -0.0001\n",
      "  ..- attr(*, \"names\")= chr [1:4] \"(Intercept)\" \"t1\" \"t2\" \"t3\"\n",
      " $ residuals    : Named num [1:264] -129 -141 -153 -136 -118 ...\n",
      "  ..- attr(*, \"names\")= chr [1:264] \"1\" \"2\" \"3\" \"4\" ...\n",
      " $ effects      : Named num [1:264] -107277 59202.3 -10981.9 -565.1 -77.2 ...\n",
      "  ..- attr(*, \"names\")= chr [1:264] \"(Intercept)\" \"t1\" \"t2\" \"t3\" ...\n",
      " $ rank         : int 4\n",
      " $ fitted.values: Named num [1:264] 1900 1909 1919 1929 1940 ...\n",
      "  ..- attr(*, \"names\")= chr [1:264] \"1\" \"2\" \"3\" \"4\" ...\n",
      " $ assign       : int [1:4] 0 1 2 3\n",
      " $ qr           :List of 5\n",
      "  ..$ qr   : num [1:264, 1:4] -16.2481 0.0615 0.0615 0.0615 0.0615 ...\n",
      "  .. ..- attr(*, \"dimnames\")=List of 2\n",
      "  .. .. ..$ : chr [1:264] \"1\" \"2\" \"3\" \"4\" ...\n",
      "  .. .. ..$ : chr [1:4] \"(Intercept)\" \"t1\" \"t2\" \"t3\"\n",
      "  .. ..- attr(*, \"assign\")= int [1:4] 0 1 2 3\n",
      "  ..$ qraux: num [1:4] 1.06 1.1 1.11 1.1\n",
      "  ..$ pivot: int [1:4] 1 2 3 4\n",
      "  ..$ tol  : num 1e-07\n",
      "  ..$ rank : int 4\n",
      "  ..- attr(*, \"class\")= chr \"qr\"\n",
      " $ df.residual  : int 260\n",
      " $ xlevels      : Named list()\n",
      " $ call         : language lm(formula = rgdp ~ t1 + t2 + t3, data = data1)\n",
      " $ terms        :Classes 'terms', 'formula'  language rgdp ~ t1 + t2 + t3\n",
      "  .. ..- attr(*, \"variables\")= language list(rgdp, t1, t2, t3)\n",
      "  .. ..- attr(*, \"factors\")= int [1:4, 1:3] 0 1 0 0 0 0 1 0 0 0 ...\n",
      "  .. .. ..- attr(*, \"dimnames\")=List of 2\n",
      "  .. .. .. ..$ : chr [1:4] \"rgdp\" \"t1\" \"t2\" \"t3\"\n",
      "  .. .. .. ..$ : chr [1:3] \"t1\" \"t2\" \"t3\"\n",
      "  .. ..- attr(*, \"term.labels\")= chr [1:3] \"t1\" \"t2\" \"t3\"\n",
      "  .. ..- attr(*, \"order\")= int [1:3] 1 1 1\n",
      "  .. ..- attr(*, \"intercept\")= int 1\n",
      "  .. ..- attr(*, \"response\")= int 1\n",
      "  .. ..- attr(*, \".Environment\")=<environment: R_GlobalEnv> \n",
      "  .. ..- attr(*, \"predvars\")= language list(rgdp, t1, t2, t3)\n",
      "  .. ..- attr(*, \"dataClasses\")= Named chr [1:4] \"numeric\" \"numeric\" \"numeric\" \"numeric\"\n",
      "  .. .. ..- attr(*, \"names\")= chr [1:4] \"rgdp\" \"t1\" \"t2\" \"t3\"\n",
      " $ model        :'data.frame':\t264 obs. of  4 variables:\n",
      "  ..$ rgdp: num [1:264] 1771 1768 1766 1793 1822 ...\n",
      "  ..$ t1  : num [1:264] 1 2 3 4 5 6 7 8 9 10 ...\n",
      "  ..$ t2  : num [1:264] 1 4 9 16 25 36 49 64 81 100 ...\n",
      "  ..$ t3  : num [1:264] 1 8 27 64 125 216 343 512 729 1000 ...\n",
      "  ..- attr(*, \"terms\")=Classes 'terms', 'formula'  language rgdp ~ t1 + t2 + t3\n",
      "  .. .. ..- attr(*, \"variables\")= language list(rgdp, t1, t2, t3)\n",
      "  .. .. ..- attr(*, \"factors\")= int [1:4, 1:3] 0 1 0 0 0 0 1 0 0 0 ...\n",
      "  .. .. .. ..- attr(*, \"dimnames\")=List of 2\n",
      "  .. .. .. .. ..$ : chr [1:4] \"rgdp\" \"t1\" \"t2\" \"t3\"\n",
      "  .. .. .. .. ..$ : chr [1:3] \"t1\" \"t2\" \"t3\"\n",
      "  .. .. ..- attr(*, \"term.labels\")= chr [1:3] \"t1\" \"t2\" \"t3\"\n",
      "  .. .. ..- attr(*, \"order\")= int [1:3] 1 1 1\n",
      "  .. .. ..- attr(*, \"intercept\")= int 1\n",
      "  .. .. ..- attr(*, \"response\")= int 1\n",
      "  .. .. ..- attr(*, \".Environment\")=<environment: R_GlobalEnv> \n",
      "  .. .. ..- attr(*, \"predvars\")= language list(rgdp, t1, t2, t3)\n",
      "  .. .. ..- attr(*, \"dataClasses\")= Named chr [1:4] \"numeric\" \"numeric\" \"numeric\" \"numeric\"\n",
      "  .. .. .. ..- attr(*, \"names\")= chr [1:4] \"rgdp\" \"t1\" \"t2\" \"t3\"\n",
      " - attr(*, \"class\")= chr \"lm\"\n"
     ]
    }
   ],
   "source": [
    "data<-read.csv(\"csvs/RGDP.csv\",header=T)\n",
    "#head(data)\n",
    "#create dataset\n",
    "N<-length(data$rgdp)\n",
    "t1<-rep(0,N)\n",
    "t2<-rep(0,N)\n",
    "t3<-rep(0,N)\n",
    "\n",
    "for (i in 1:length(data$rgdp)){\n",
    "    t1[i]<-i\n",
    "    t2[i]<-i**2\n",
    "    t3[i]<-i**3\n",
    "}\n",
    "data1<-data.frame(rgdp=data$rgdp,t1=t1,t2=t2,t3=t3)\n",
    "head(data1,n=2)\n",
    "reg<-lm(rgdp~t1+t2+t3,data=data1)\n",
    "str(reg)"
   ]
  },
  {
   "cell_type": "markdown",
   "metadata": {},
   "source": [
    "(b)estimate (4.29)"
   ]
  },
  {
   "cell_type": "code",
   "execution_count": 23,
   "metadata": {},
   "outputs": [
    {
     "data": {
      "text/plain": [
       "\n",
       "############################################### \n",
       "# Augmented Dickey-Fuller Test Unit Root Test # \n",
       "############################################### \n",
       "\n",
       "Test regression trend \n",
       "\n",
       "\n",
       "Call:\n",
       "lm(formula = z.diff ~ z.lag.1 + 1 + tt + z.diff.lag)\n",
       "\n",
       "Residuals:\n",
       "      Min        1Q    Median        3Q       Max \n",
       "-0.030533 -0.004380  0.000598  0.004866  0.034333 \n",
       "\n",
       "Coefficients:\n",
       "              Estimate Std. Error t value Pr(>|t|)    \n",
       "(Intercept)  1.249e-01  7.919e-02   1.577    0.116    \n",
       "z.lag.1     -1.563e-02  1.050e-02  -1.489    0.138    \n",
       "tt           1.117e-04  8.506e-05   1.313    0.190    \n",
       "z.diff.lag   3.663e-01  5.848e-02   6.263 1.57e-09 ***\n",
       "---\n",
       "Signif. codes:  0 '***' 0.001 '**' 0.01 '*' 0.05 '.' 0.1 ' ' 1\n",
       "\n",
       "Residual standard error: 0.009106 on 258 degrees of freedom\n",
       "Multiple R-squared:  0.1569,\tAdjusted R-squared:  0.1471 \n",
       "F-statistic:    16 on 3 and 258 DF,  p-value: 1.43e-09\n",
       "\n",
       "\n",
       "Value of test-statistic is: -1.4891 17.6119 2.9657 \n",
       "\n",
       "Critical values for test statistics: \n",
       "      1pct  5pct 10pct\n",
       "tau3 -3.98 -3.42 -3.13\n",
       "phi2  6.15  4.71  4.05\n",
       "phi3  8.34  6.30  5.36\n"
      ]
     },
     "metadata": {},
     "output_type": "display_data"
    }
   ],
   "source": [
    "#library for unit-root-test\n",
    "library(urca)\n",
    "res<-ur.df(log(data$rgdp),\"trend\", lags=1, \"Fixed\")\n",
    "summary(res)\n",
    "#str(res)\n",
    "#res@testreg$coefficients"
   ]
  }
 ],
 "metadata": {
  "kernelspec": {
   "display_name": "R",
   "language": "R",
   "name": "ir"
  },
  "language_info": {
   "codemirror_mode": "r",
   "file_extension": ".r",
   "mimetype": "text/x-r-source",
   "name": "R",
   "pygments_lexer": "r",
   "version": "4.0.0"
  }
 },
 "nbformat": 4,
 "nbformat_minor": 4
}
