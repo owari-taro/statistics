{
 "cells": [
  {
   "cell_type": "code",
   "execution_count": null,
   "metadata": {},
   "outputs": [],
   "source": [
    "library(dplyr)\n",
    "library(urca)\n",
    "data_<-read.csv(\"csvs/ppp.csv\",header=TRUE)\n",
    "#mtcars %>% mutate_at(columnstolog, funs(log = log(.)))\n",
    "new<-data_%>% select(cpica,cpijp)%>%log%>%colnames%>%paste(.,\"hoge\")%>%setnames\n",
    "data_<-data_ %>% mutate_at(c(\"cpica\",\"cpijp\"),funs(log=log(.)))\n"
   ]
  }
 ],
 "metadata": {
  "kernelspec": {
   "display_name": "R",
   "language": "R",
   "name": "ir"
  },
  "language_info": {
   "codemirror_mode": "r",
   "file_extension": ".r",
   "mimetype": "text/x-r-source",
   "name": "R",
   "pygments_lexer": "r",
   "version": "4.0.0"
  }
 },
 "nbformat": 4,
 "nbformat_minor": 4
}
