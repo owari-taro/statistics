{
 "cells": [
  {
   "cell_type": "code",
   "execution_count": 13,
   "metadata": {},
   "outputs": [
    {
     "data": {
      "text/html": [
       "<table>\n",
       "<caption>A data.frame: 6 × 8</caption>\n",
       "<thead>\n",
       "\t<tr><th></th><th scope=col>Date</th><th scope=col>ca</th><th scope=col>fr</th><th scope=col>ge</th><th scope=col>it</th><th scope=col>jp</th><th scope=col>uk</th><th scope=col>us</th></tr>\n",
       "\t<tr><th></th><th scope=col>&lt;chr&gt;</th><th scope=col>&lt;dbl&gt;</th><th scope=col>&lt;dbl&gt;</th><th scope=col>&lt;dbl&gt;</th><th scope=col>&lt;dbl&gt;</th><th scope=col>&lt;dbl&gt;</th><th scope=col>&lt;dbl&gt;</th><th scope=col>&lt;dbl&gt;</th></tr>\n",
       "</thead>\n",
       "<tbody>\n",
       "\t<tr><th scope=row>1</th><td>2003/1/1</td><td>560.099</td><td>902.081</td><td>724.932</td><td>290.187</td><td>1593.175</td><td>791.076</td><td>824.583</td></tr>\n",
       "\t<tr><th scope=row>2</th><td>2003/1/2</td><td>574.701</td><td>927.206</td><td>768.150</td><td>296.963</td><td>1578.214</td><td>797.813</td><td>852.219</td></tr>\n",
       "\t<tr><th scope=row>3</th><td>2003/1/3</td><td>580.212</td><td>929.297</td><td>768.411</td><td>298.757</td><td>1578.411</td><td>800.175</td><td>851.935</td></tr>\n",
       "\t<tr><th scope=row>4</th><td>2003/1/6</td><td>589.619</td><td>943.002</td><td>788.164</td><td>303.273</td><td>1619.700</td><td>803.966</td><td>871.515</td></tr>\n",
       "\t<tr><th scope=row>5</th><td>2003/1/7</td><td>585.822</td><td>923.785</td><td>774.054</td><td>297.892</td><td>1590.951</td><td>793.625</td><td>865.992</td></tr>\n",
       "\t<tr><th scope=row>6</th><td>2003/1/8</td><td>576.522</td><td>900.435</td><td>742.414</td><td>293.791</td><td>1564.566</td><td>783.566</td><td>853.401</td></tr>\n",
       "</tbody>\n",
       "</table>\n"
      ],
      "text/latex": [
       "A data.frame: 6 × 8\n",
       "\\begin{tabular}{r|llllllll}\n",
       "  & Date & ca & fr & ge & it & jp & uk & us\\\\\n",
       "  & <chr> & <dbl> & <dbl> & <dbl> & <dbl> & <dbl> & <dbl> & <dbl>\\\\\n",
       "\\hline\n",
       "\t1 & 2003/1/1 & 560.099 & 902.081 & 724.932 & 290.187 & 1593.175 & 791.076 & 824.583\\\\\n",
       "\t2 & 2003/1/2 & 574.701 & 927.206 & 768.150 & 296.963 & 1578.214 & 797.813 & 852.219\\\\\n",
       "\t3 & 2003/1/3 & 580.212 & 929.297 & 768.411 & 298.757 & 1578.411 & 800.175 & 851.935\\\\\n",
       "\t4 & 2003/1/6 & 589.619 & 943.002 & 788.164 & 303.273 & 1619.700 & 803.966 & 871.515\\\\\n",
       "\t5 & 2003/1/7 & 585.822 & 923.785 & 774.054 & 297.892 & 1590.951 & 793.625 & 865.992\\\\\n",
       "\t6 & 2003/1/8 & 576.522 & 900.435 & 742.414 & 293.791 & 1564.566 & 783.566 & 853.401\\\\\n",
       "\\end{tabular}\n"
      ],
      "text/markdown": [
       "\n",
       "A data.frame: 6 × 8\n",
       "\n",
       "| <!--/--> | Date &lt;chr&gt; | ca &lt;dbl&gt; | fr &lt;dbl&gt; | ge &lt;dbl&gt; | it &lt;dbl&gt; | jp &lt;dbl&gt; | uk &lt;dbl&gt; | us &lt;dbl&gt; |\n",
       "|---|---|---|---|---|---|---|---|---|\n",
       "| 1 | 2003/1/1 | 560.099 | 902.081 | 724.932 | 290.187 | 1593.175 | 791.076 | 824.583 |\n",
       "| 2 | 2003/1/2 | 574.701 | 927.206 | 768.150 | 296.963 | 1578.214 | 797.813 | 852.219 |\n",
       "| 3 | 2003/1/3 | 580.212 | 929.297 | 768.411 | 298.757 | 1578.411 | 800.175 | 851.935 |\n",
       "| 4 | 2003/1/6 | 589.619 | 943.002 | 788.164 | 303.273 | 1619.700 | 803.966 | 871.515 |\n",
       "| 5 | 2003/1/7 | 585.822 | 923.785 | 774.054 | 297.892 | 1590.951 | 793.625 | 865.992 |\n",
       "| 6 | 2003/1/8 | 576.522 | 900.435 | 742.414 | 293.791 | 1564.566 | 783.566 | 853.401 |\n",
       "\n"
      ],
      "text/plain": [
       "  Date     ca      fr      ge      it      jp       uk      us     \n",
       "1 2003/1/1 560.099 902.081 724.932 290.187 1593.175 791.076 824.583\n",
       "2 2003/1/2 574.701 927.206 768.150 296.963 1578.214 797.813 852.219\n",
       "3 2003/1/3 580.212 929.297 768.411 298.757 1578.411 800.175 851.935\n",
       "4 2003/1/6 589.619 943.002 788.164 303.273 1619.700 803.966 871.515\n",
       "5 2003/1/7 585.822 923.785 774.054 297.892 1590.951 793.625 865.992\n",
       "6 2003/1/8 576.522 900.435 742.414 293.791 1564.566 783.566 853.401"
      ]
     },
     "metadata": {},
     "output_type": "display_data"
    }
   ],
   "source": [
    "data_<-read.csv(\"csvs/msci_day.csv\")\n",
    "white_noise<-rnorm(nrow(data_),0,1)\n",
    "\n",
    "\n",
    "head(data_)"
   ]
  },
  {
   "cell_type": "code",
   "execution_count": 14,
   "metadata": {},
   "outputs": [
    {
     "data": {
      "text/plain": [
       "\n",
       "Call:\n",
       "lm(formula = log(data_$fr) ~ white_noise)\n",
       "\n",
       "Residuals:\n",
       "     Min       1Q   Median       3Q      Max \n",
       "-0.71774 -0.19740 -0.00727  0.26857  0.44675 \n",
       "\n",
       "Coefficients:\n",
       "             Estimate Std. Error t value Pr(>|t|)    \n",
       "(Intercept)  7.323433   0.007718 948.906   <2e-16 ***\n",
       "white_noise -0.006767   0.007905  -0.856    0.392    \n",
       "---\n",
       "Signif. codes:  0 '***' 0.001 '**' 0.01 '*' 0.05 '.' 0.1 ' ' 1\n",
       "\n",
       "Residual standard error: 0.2878 on 1389 degrees of freedom\n",
       "Multiple R-squared:  0.0005273,\tAdjusted R-squared:  -0.0001922 \n",
       "F-statistic: 0.7328 on 1 and 1389 DF,  p-value: 0.3921\n"
      ]
     },
     "metadata": {},
     "output_type": "display_data"
    }
   ],
   "source": [
    "res<-lm(log(data_$fr)~white_noise)\n",
    "summary(res)"
   ]
  }
 ],
 "metadata": {
  "kernelspec": {
   "display_name": "R",
   "language": "R",
   "name": "ir"
  },
  "language_info": {
   "codemirror_mode": "r",
   "file_extension": ".r",
   "mimetype": "text/x-r-source",
   "name": "R",
   "pygments_lexer": "r",
   "version": "4.0.0"
  }
 },
 "nbformat": 4,
 "nbformat_minor": 4
}
