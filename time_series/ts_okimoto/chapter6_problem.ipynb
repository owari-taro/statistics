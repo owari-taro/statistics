{
 "cells": [
  {
   "cell_type": "code",
   "execution_count": null,
   "metadata": {},
   "outputs": [],
   "source": [
    "library(broom)\n",
    "library(tidyverse)\n",
    "data_<-read.csv(\"csvs/msci_day.csv\")\n",
    "white_noise<-rnorm(nrow(data_),0,1)\n",
    "data_$wn<-white_noise\n",
    "head(data_,2)\n",
    "formulas<-paste(colnames(data_)[2:(ncol(data_)-1)],\"wn\",sep=\"~\")\n",
    "formula_list<-lapply(formulas,as.formula)\n"
   ]
  },
  {
   "cell_type": "code",
   "execution_count": null,
   "metadata": {},
   "outputs": [],
   "source": [
    "res<-lm(log(data_$fr)~white_noise)\n",
    "summary(res)"
   ]
  },
  {
   "cell_type": "code",
   "execution_count": null,
   "metadata": {},
   "outputs": [],
   "source": []
  }
 ],
 "metadata": {
  "kernelspec": {
   "display_name": "R",
   "language": "R",
   "name": "ir"
  },
  "language_info": {
   "codemirror_mode": "r",
   "file_extension": ".r",
   "mimetype": "text/x-r-source",
   "name": "R",
   "pygments_lexer": "r",
   "version": "4.0.0"
  }
 },
 "nbformat": 4,
 "nbformat_minor": 4
}
