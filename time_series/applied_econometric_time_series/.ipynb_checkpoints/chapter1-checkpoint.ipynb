{
 "cells": [
  {
   "cell_type": "markdown",
   "metadata": {},
   "source": [
    "# Chapter1\n",
    "//https://qiita.com/namoshika/items/63db972bfd1030f8264a"
   ]
  },
  {
   "cell_type": "markdown",
   "metadata": {},
   "source": [
    "## problem4\n",
    "(1)calculate charachteristric roots and the discriminant d in order to describe the adjustment process  \n",
    "\n"
   ]
  },
  {
   "cell_type": "markdown",
   "metadata": {},
   "source": [
    "(a)$y_{t}=0.75y_{t-1}-0.125y_{t-2}$"
   ]
  },
  {
   "cell_type": "code",
   "execution_count": 1,
   "metadata": {},
   "outputs": [
    {
     "data": {
      "text/html": [
       "<style>\n",
       ".list-inline {list-style: none; margin:0; padding: 0}\n",
       ".list-inline>li {display: inline-block}\n",
       ".list-inline>li:not(:last-child)::after {content: \"\\00b7\"; padding: 0 .5ex}\n",
       "</style>\n",
       "<ol class=list-inline><li>0.25+0i</li><li>0.5-0i</li></ol>\n"
      ],
      "text/latex": [
       "\\begin{enumerate*}\n",
       "\\item 0.25+0i\n",
       "\\item 0.5-0i\n",
       "\\end{enumerate*}\n"
      ],
      "text/markdown": [
       "1. 0.25+0i\n",
       "2. 0.5-0i\n",
       "\n",
       "\n"
      ],
      "text/plain": [
       "[1] 0.25+0i 0.50-0i"
      ]
     },
     "metadata": {},
     "output_type": "display_data"
    },
    {
     "data": {
      "text/html": [
       "TRUE"
      ],
      "text/latex": [
       "TRUE"
      ],
      "text/markdown": [
       "TRUE"
      ],
      "text/plain": [
       "[1] TRUE"
      ]
     },
     "metadata": {},
     "output_type": "display_data"
    }
   ],
   "source": [
    "\n",
    "a<-1\n",
    "b<--0.75\n",
    "c<-0.125\n",
    "polyroot(c(c,b,a))\n",
    "b**2-4*a*c>0"
   ]
  },
  {
   "cell_type": "markdown",
   "metadata": {},
   "source": [
    "(2)calculate impulses response when $\\epsilon_{1}=1  and  \\epsilon_{t}=0(t>=2)$"
   ]
  },
  {
   "cell_type": "code",
   "execution_count": 5,
   "metadata": {},
   "outputs": [
    {
     "name": "stdout",
     "output_type": "stream",
     "text": [
      " [1] 0.000000e+00 0.000000e+00 1.000000e+00 7.500000e-01 4.375000e-01\n",
      " [6] 2.343750e-01 1.210938e-01 6.152344e-02 3.100586e-02 1.556396e-02\n",
      "[11] 7.797241e-03 3.902435e-03 1.952171e-03 9.763241e-04 4.882216e-04\n",
      "[16] 2.441257e-04 1.220666e-04 6.103422e-05 3.051735e-05 1.525873e-05\n",
      "[21] 7.629380e-06 3.814694e-06 1.907348e-06 9.536741e-07 4.768371e-07\n",
      "[26] 2.384186e-07 1.192093e-07\n"
     ]
    },
    {
     "data": {
      "image/png": "[encoded data removed]",
      "text/plain": [
       "plot without title"
      ]
     },
     "metadata": {
      "image/png": {
       "height": 420,
       "width": 420
      }
     },
     "output_type": "display_data"
    }
   ],
   "source": [
    "library(scales)\n",
    "library(ggplot2)\n",
    "b<-0.75\n",
    "c<--0.125\n",
    "x<-c(1:27)\n",
    "y<-rep(0,27)\n",
    "e<-c(1,rep(0,26))\n",
    "for (i in 1:25){\n",
    "    y[i+2]<-b*y[i+1]+c*y[i]+e[i]    \n",
    "}\n",
    "print(y)\n",
    "\n",
    "a=data.frame(x,y)\n",
    "ggplot(a,aes(x=x,y=y))+geom_line()+ggtitle(\"impulse response\")"
   ]
  },
  {
   "cell_type": "code",
   "execution_count": 3,
   "metadata": {
    "jupyter": {
     "source_hidden": true
    }
   },
   "outputs": [
    {
     "ename": "ERROR",
     "evalue": "Error in data.frame(x, y):  オブジェクト 'x' がありません \n",
     "output_type": "error",
     "traceback": [
      "Error in data.frame(x, y):  オブジェクト 'x' がありません \nTraceback:\n",
      "1. data.frame(x, y)"
     ]
    }
   ],
   "source": []
  },
  {
   "cell_type": "code",
   "execution_count": null,
   "metadata": {},
   "outputs": [],
   "source": [
    "## problem5\n",
    "\n",
    "$$\n",
    "    \\pi_{t}=0.7\\pi_{t-1}+0.6\\pi_{t-2}+0.05\n",
    "$$\n",
    "(1)find homogeneous solution\n"
   ]
  },
  {
   "cell_type": "code",
   "execution_count": 2,
   "metadata": {},
   "outputs": [
    {
     "name": "stdout",
     "output_type": "stream",
     "text": [
      "[1] -0.5-0i  1.2+0i\n"
     ]
    }
   ],
   "source": [
    "print(polyroot(c(-0.6, -0.7, 1)) )"
   ]
  },
  {
   "cell_type": "code",
   "execution_count": null,
   "metadata": {},
   "outputs": [],
   "source": [
    "(2)find specific solution"
   ]
  },
  {
   "cell_type": "code",
   "execution_count": null,
   "metadata": {},
   "outputs": [],
   "source": [
    "(3)"
   ]
  }
 ],
 "metadata": {
  "kernelspec": {
   "display_name": "R",
   "language": "R",
   "name": "ir"
  },
  "language_info": {
   "codemirror_mode": "r",
   "file_extension": ".r",
   "mimetype": "text/x-r-source",
   "name": "R",
   "pygments_lexer": "r",
   "version": "4.0.0"
  }
 },
 "nbformat": 4,
 "nbformat_minor": 4
}
